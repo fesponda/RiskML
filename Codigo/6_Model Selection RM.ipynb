{
 "cells": [
  {
   "cell_type": "markdown",
   "metadata": {},
   "source": [
    "# Model Selection"
   ]
  },
  {
   "cell_type": "markdown",
   "metadata": {},
   "source": [
    "- Importar librerías\n",
    "- Cargar Datos del círculo\n",
    "- Implementar validación cruzada\n",
    "    - reportar error \n",
    "- Seleccionar una buena topología de red\n",
    "    - uso de pipeline"
   ]
  },
  {
   "cell_type": "code",
   "execution_count": 1,
   "metadata": {},
   "outputs": [],
   "source": [
    "import pandas as pd\n",
    "import numpy as np\n",
    "from sklearn.model_selection import train_test_split\n",
    "from sklearn.neural_network import MLPClassifier\n",
    "from sklearn.model_selection import cross_val_score\n",
    "from sklearn.preprocessing import StandardScaler\n",
    "from sklearn.pipeline import Pipeline\n",
    "import matplotlib.pyplot as plt\n",
    "%matplotlib inline"
   ]
  },
  {
   "cell_type": "code",
   "execution_count": 2,
   "metadata": {},
   "outputs": [],
   "source": [
    "def accuracy(X,y):\n",
    "    errores=0\n",
    "    for modelo,realidad in zip(model.predict(X),y):\n",
    "        errores+=abs(modelo-realidad)\n",
    "    return 1.0*errores/len(y)"
   ]
  },
  {
   "cell_type": "code",
   "execution_count": 3,
   "metadata": {},
   "outputs": [],
   "source": [
    "df = pd.read_csv(\"/Users/fesponda/Itam/Itam/Clases Itam/RiskMath/RiskDistrib/Datos/circulo2.csv\")\n",
    "X_train, X_test, y_train, y_test = train_test_split(df[['X1','X2']],df['class'], test_size=0.33)\n",
    "X_train=np.asarray(X_train)\n",
    "X_test=np.asarray(X_test)\n",
    "y_train=np.asarray(y_train)\n",
    "y_test=np.asarray(y_test)"
   ]
  },
  {
   "cell_type": "code",
   "execution_count": 4,
   "metadata": {},
   "outputs": [],
   "source": [
    "model=MLPClassifier( hidden_layer_sizes=(100,10),max_iter=1000)\n"
   ]
  },
  {
   "cell_type": "code",
   "execution_count": 5,
   "metadata": {},
   "outputs": [
    {
     "name": "stdout",
     "output_type": "stream",
     "text": [
      "(0.3926664156031901, 0.04853022549310184)\n",
      "0.444722361181\n"
     ]
    }
   ],
   "source": [
    "scores = cross_val_score(model, X_train, y_train, cv=5)\n",
    "print(np.mean(1-scores),np.std(1-scores))\n",
    "model.fit(X_train,y_train)\n",
    "print accuracy(X_test,y_test)"
   ]
  },
  {
   "cell_type": "markdown",
   "metadata": {},
   "source": [
    "Ahora normalizado"
   ]
  },
  {
   "cell_type": "code",
   "execution_count": 6,
   "metadata": {},
   "outputs": [],
   "source": [
    "df = pd.read_csv(\"/Users/fesponda/Itam/Itam/Clases Itam/RiskMath/RiskDistrib/Datos/circulo2.csv\")\n",
    "X_train, X_test, y_train, y_test = train_test_split(df[['X1','X2']],df['class'], test_size=0.33)"
   ]
  },
  {
   "cell_type": "code",
   "execution_count": 7,
   "metadata": {},
   "outputs": [],
   "source": [
    "scalerX = StandardScaler()\n",
    "scalerX=scalerX.fit(X_train)\n",
    "X_train=scalerX.transform(X_train)\n"
   ]
  },
  {
   "cell_type": "code",
   "execution_count": 8,
   "metadata": {},
   "outputs": [
    {
     "name": "stdout",
     "output_type": "stream",
     "text": [
      "(0.009611689211836638, 0.004078091926303502)\n"
     ]
    }
   ],
   "source": [
    "model=MLPClassifier( hidden_layer_sizes=(100,10),max_iter=1000) # Esta mal porque escale antes\n",
    "scores = cross_val_score(model, X_train, y_train, cv=5)\n",
    "print(np.mean(1-scores),np.std(1-scores))\n"
   ]
  },
  {
   "cell_type": "code",
   "execution_count": null,
   "metadata": {},
   "outputs": [],
   "source": []
  },
  {
   "cell_type": "code",
   "execution_count": 9,
   "metadata": {},
   "outputs": [
    {
     "name": "stdout",
     "output_type": "stream",
     "text": [
      "0.008504252126062983 0.00850425212606\n"
     ]
    }
   ],
   "source": [
    "model.fit(X_train,y_train)\n",
    "X_test=scalerX.transform(X_test)\n",
    "print 1-model.score(X_test,y_test),accuracy(X_test,y_test)"
   ]
  },
  {
   "cell_type": "markdown",
   "metadata": {},
   "source": [
    "Crear un pipeline"
   ]
  },
  {
   "cell_type": "code",
   "execution_count": 10,
   "metadata": {},
   "outputs": [],
   "source": [
    "df = pd.read_csv(\"/Users/fesponda/Itam/Itam/Clases Itam/RiskMath/RiskDistrib/Datos/circulo.csv\")\n",
    "X_train, X_test, y_train, y_test = train_test_split(df[['X1','X2']],df['class'], test_size=0.33,random_state=25)"
   ]
  },
  {
   "cell_type": "code",
   "execution_count": 11,
   "metadata": {},
   "outputs": [],
   "source": [
    "scalerX = StandardScaler()\n",
    "red=MLPClassifier( hidden_layer_sizes=(100,10),max_iter=1000)"
   ]
  },
  {
   "cell_type": "code",
   "execution_count": 12,
   "metadata": {},
   "outputs": [
    {
     "name": "stdout",
     "output_type": "stream",
     "text": [
      "(0.023903041185052175, 0.01520780929500957)\n",
      "0.024242424242424288\n"
     ]
    }
   ],
   "source": [
    "model=Pipeline([('scaler', scalerX), ('RN', red)])\n",
    "scores = cross_val_score(model, X_train, y_train, cv=5)\n",
    "print(np.mean(1-scores),np.std(1-scores))\n",
    "model.fit(X_train,y_train)\n",
    "print 1-model.score(X_test,y_test)\n"
   ]
  },
  {
   "cell_type": "markdown",
   "metadata": {},
   "source": [
    "Seleccionar topología"
   ]
  },
  {
   "cell_type": "code",
   "execution_count": 13,
   "metadata": {},
   "outputs": [],
   "source": [
    "df = pd.read_csv(\"/Users/fesponda/Itam/Itam/Clases Itam/RiskMath/RiskDistrib/Datos/circulo2.csv\")\n",
    "X_train, X_test, y_train, y_test = train_test_split(df[['X1','X2']],df['class'], test_size=0.33,random_state=25)\n"
   ]
  },
  {
   "cell_type": "code",
   "execution_count": 14,
   "metadata": {},
   "outputs": [],
   "source": [
    "trainerr=[]\n",
    "testerr=[]\n",
    "cverror=[]\n",
    "params=[10,100,500,1000]\n",
    "\n",
    "for i in params:\n",
    "    scalerX = StandardScaler()\n",
    "    red=MLPClassifier( hidden_layer_sizes=(i,10),max_iter=1000)\n",
    "    model=Pipeline([('scaler', scalerX), ('RN', red)])\n",
    "    scores = cross_val_score(model, X_train, y_train, cv=5)\n",
    "    cverror.append(np.mean(1-scores))\n",
    "\n",
    "    #Las siguientes lineas no son necesarias, son para fines ilustrativos\n",
    "    model=model.fit(X_train,y_train)\n",
    "    trainerr.append(np.mean(1-model.score(X_train,y_train)))\n",
    "    testerr.append(np.mean(1-model.score(X_test,y_test))) # esto en realidad no va aqui. Es solo para ver como cambia por pedagogía\n",
    "    \n",
    "\n",
    "    "
   ]
  },
  {
   "cell_type": "code",
   "execution_count": 15,
   "metadata": {},
   "outputs": [
    {
     "data": {
      "text/plain": [
       "[<matplotlib.lines.Line2D at 0x104695f90>]"
      ]
     },
     "execution_count": 15,
     "metadata": {},
     "output_type": "execute_result"
    },
    {
     "data": {
      "image/png": "[encoded data removed]",
      "text/plain": [
       "<Figure size 432x288 with 1 Axes>"
      ]
     },
     "metadata": {
      "needs_background": "light"
     },
     "output_type": "display_data"
    }
   ],
   "source": [
    "\n",
    "\n",
    "plt.plot(params,testerr,c='b')\n",
    "plt.plot(params,cverror,c='g')\n",
    "plt.plot(params,trainerr,c='r')"
   ]
  },
  {
   "cell_type": "code",
   "execution_count": 16,
   "metadata": {},
   "outputs": [
    {
     "name": "stdout",
     "output_type": "stream",
     "text": [
      "(0.008874284013533119, 100)\n"
     ]
    }
   ],
   "source": [
    "print min(zip(cverror,params),key=lambda x: x[0])\n",
    "layer=min(zip(cverror,params),key=lambda x: x[0])[1]"
   ]
  },
  {
   "cell_type": "code",
   "execution_count": 17,
   "metadata": {},
   "outputs": [],
   "source": [
    "scalerX = StandardScaler()\n",
    "red=MLPClassifier( hidden_layer_sizes=(layer,50))\n",
    "model=Pipeline([('scaler', scalerX), ('RN', red)])\n",
    "model=model.fit(X_train,y_train)"
   ]
  },
  {
   "cell_type": "code",
   "execution_count": 18,
   "metadata": {},
   "outputs": [
    {
     "data": {
      "text/plain": [
       "0.015007503751875984"
      ]
     },
     "execution_count": 18,
     "metadata": {},
     "output_type": "execute_result"
    }
   ],
   "source": [
    "1-model.score(X_test,y_test)"
   ]
  },
  {
   "cell_type": "code",
   "execution_count": 19,
   "metadata": {},
   "outputs": [
    {
     "data": {
      "text/plain": [
       "[0.0071481390189795935,\n",
       " 0.004190288390436336,\n",
       " 0.007641114123736803,\n",
       " 0.011584914961794479]"
      ]
     },
     "execution_count": 19,
     "metadata": {},
     "output_type": "execute_result"
    }
   ],
   "source": [
    "trainerr"
   ]
  },
  {
   "cell_type": "code",
   "execution_count": 20,
   "metadata": {},
   "outputs": [
    {
     "data": {
      "text/plain": [
       "[0.011832986096347642,\n",
       " 0.008874284013533119,\n",
       " 0.012324989522149244,\n",
       " 0.011093462428553202]"
      ]
     },
     "execution_count": 20,
     "metadata": {},
     "output_type": "execute_result"
    }
   ],
   "source": [
    "cverror"
   ]
  },
  {
   "cell_type": "code",
   "execution_count": 21,
   "metadata": {},
   "outputs": [
    {
     "data": {
      "text/plain": [
       "[0.012506253126563283,\n",
       " 0.010005002501250582,\n",
       " 0.013506753376688385,\n",
       " 0.01550775387693848]"
      ]
     },
     "execution_count": 21,
     "metadata": {},
     "output_type": "execute_result"
    }
   ],
   "source": [
    "testerr"
   ]
  },
  {
   "cell_type": "code",
   "execution_count": null,
   "metadata": {},
   "outputs": [],
   "source": []
  },
  {
   "cell_type": "code",
   "execution_count": null,
   "metadata": {},
   "outputs": [],
   "source": []
  }
 ],
 "metadata": {
  "kernelspec": {
   "display_name": "Python 2",
   "language": "python",
   "name": "python2"
  },
  "language_info": {
   "codemirror_mode": {
    "name": "ipython",
    "version": 2
   },
   "file_extension": ".py",
   "mimetype": "text/x-python",
   "name": "python",
   "nbconvert_exporter": "python",
   "pygments_lexer": "ipython2",
   "version": "2.7.10"
  }
 },
 "nbformat": 4,
 "nbformat_minor": 2
}
