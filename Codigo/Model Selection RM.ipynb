{
 "cells": [
  {
   "cell_type": "markdown",
   "metadata": {},
   "source": [
    "# Model Selection"
   ]
  },
  {
   "cell_type": "markdown",
   "metadata": {},
   "source": [
    "- Importar librerías\n",
    "- Cargar Datos del círculo\n",
    "- Implementar validación cruzada\n",
    "    - reportar error \n",
    "- Seleccionar una buena topología de red\n",
    "    - uso de pipeline"
   ]
  },
  {
   "cell_type": "code",
   "execution_count": 1,
   "metadata": {},
   "outputs": [],
   "source": [
    "import pandas as pd\n",
    "import numpy as np\n",
    "from sklearn.model_selection import train_test_split\n",
    "from sklearn.neural_network import MLPClassifier\n",
    "from sklearn.model_selection import cross_val_score\n",
    "from sklearn.preprocessing import StandardScaler\n",
    "from sklearn.pipeline import Pipeline\n",
    "import matplotlib.pyplot as plt\n",
    "%matplotlib inline"
   ]
  },
  {
   "cell_type": "code",
   "execution_count": 46,
   "metadata": {},
   "outputs": [],
   "source": [
    "df = pd.read_csv(\"/Users/fesponda/Itam/Itam/Clases Itam/RiskMath/RiskDistrib/Datos/circulo.csv\")\n",
    "X_train, X_test, y_train, y_test = train_test_split(df[['X1','X2']],df['class'], test_size=0.33)"
   ]
  },
  {
   "cell_type": "code",
   "execution_count": 47,
   "metadata": {},
   "outputs": [],
   "source": [
    "model=MLPClassifier( hidden_layer_sizes=(100,50))\n"
   ]
  },
  {
   "cell_type": "code",
   "execution_count": 48,
   "metadata": {},
   "outputs": [
    {
     "name": "stdout",
     "output_type": "stream",
     "text": [
      "(0.40748737515430367, 0.10790852969411023)\n"
     ]
    }
   ],
   "source": [
    "scores = cross_val_score(model, X_train, y_train, cv=5)\n",
    "print(np.mean(1-scores),np.std(1-scores))"
   ]
  },
  {
   "cell_type": "markdown",
   "metadata": {},
   "source": [
    "Ahora normalizado"
   ]
  },
  {
   "cell_type": "code",
   "execution_count": 52,
   "metadata": {},
   "outputs": [],
   "source": [
    "df = pd.read_csv(\"/Users/fesponda/Itam/Itam/Clases Itam/RiskMath/RiskDistrib/Datos/circulo.csv\")\n",
    "X_train, X_test, y_train, y_test = train_test_split(df[['X1','X2']],df['class'], test_size=0.33)"
   ]
  },
  {
   "cell_type": "code",
   "execution_count": 53,
   "metadata": {},
   "outputs": [],
   "source": [
    "scalerX = StandardScaler()\n",
    "scalerX=scalerX.fit(X_train)\n",
    "X_train=scalerX.transform(X_train)\n"
   ]
  },
  {
   "cell_type": "code",
   "execution_count": 54,
   "metadata": {},
   "outputs": [
    {
     "name": "stdout",
     "output_type": "stream",
     "text": [
      "(0.01795533610144766, 0.01017608624610347)\n"
     ]
    }
   ],
   "source": [
    "model=MLPClassifier( hidden_layer_sizes=(100,50)) # Esta mal porque escale antes\n",
    "scores = cross_val_score(model, X_train, y_train, cv=5)\n",
    "print(np.mean(1-scores),np.std(1-scores))\n"
   ]
  },
  {
   "cell_type": "code",
   "execution_count": 58,
   "metadata": {},
   "outputs": [],
   "source": [
    "def accuracy(X,y):\n",
    "    errores=0\n",
    "    for modelo,realidad in zip(model.predict(X),y):\n",
    "        errores+=abs(modelo-realidad)\n",
    "    return 100.0*errores/len(y)"
   ]
  },
  {
   "cell_type": "code",
   "execution_count": 59,
   "metadata": {},
   "outputs": [
    {
     "name": "stdout",
     "output_type": "stream",
     "text": [
      "0.22424242424242424 22.4242424242\n"
     ]
    }
   ],
   "source": [
    "model.fit(X_train,y_train)\n",
    "X_test=scalerX.transform(X_test)\n",
    "print 1-model.score(X_test,y_test),accuracy(X_test,y_test)"
   ]
  },
  {
   "cell_type": "markdown",
   "metadata": {},
   "source": [
    "Crear un pipeline"
   ]
  },
  {
   "cell_type": "code",
   "execution_count": 61,
   "metadata": {},
   "outputs": [],
   "source": [
    "df = pd.read_csv(\"/Users/fesponda/Itam/Itam/Clases Itam/RiskMath/RiskDistrib/Datos/circulo.csv\")\n",
    "X_train, X_test, y_train, y_test = train_test_split(df[['X1','X2']],df['class'], test_size=0.33)"
   ]
  },
  {
   "cell_type": "code",
   "execution_count": 62,
   "metadata": {},
   "outputs": [],
   "source": [
    "scalerX = StandardScaler()\n",
    "red=MLPClassifier( hidden_layer_sizes=(100,50))"
   ]
  },
  {
   "cell_type": "code",
   "execution_count": 64,
   "metadata": {},
   "outputs": [
    {
     "name": "stdout",
     "output_type": "stream",
     "text": [
      "(0.016418409207097362, 0.005525574676041909)\n",
      "0.027272727272727226\n"
     ]
    }
   ],
   "source": [
    "model=Pipeline([('scaler', scalerX), ('RN', red)])\n",
    "scores = cross_val_score(model, X_train, y_train, cv=5)\n",
    "print(np.mean(1-scores),np.std(1-scores))\n",
    "model.fit(X_train,y_train)\n",
    "print 1-model.score(X_test,y_test)\n"
   ]
  },
  {
   "cell_type": "markdown",
   "metadata": {},
   "source": [
    "Seleccionar topología"
   ]
  },
  {
   "cell_type": "code",
   "execution_count": 67,
   "metadata": {},
   "outputs": [],
   "source": [
    "df = pd.read_csv(\"/Users/fesponda/Itam/Itam/Clases Itam/RiskMath/RiskDistrib/Datos/circulo.csv\")\n",
    "X_train, X_test, y_train, y_test = train_test_split(df[['X1','X2']],df['class'], test_size=0.5)\n"
   ]
  },
  {
   "cell_type": "code",
   "execution_count": 68,
   "metadata": {},
   "outputs": [],
   "source": [
    "trainerr=[]\n",
    "cverror=[]\n",
    "params=[10,100,500]\n",
    "\n",
    "for i in params:\n",
    "    scalerX = StandardScaler()\n",
    "    red=MLPClassifier( hidden_layer_sizes=(i,50))\n",
    "    model=Pipeline([('scaler', scalerX), ('RN', red)])\n",
    "    scores = cross_val_score(model, X_train, y_train, cv=5)\n",
    "    cverror.append(np.mean(1-scores))\n",
    "    #Las siguientes lineas no son necesarias, son para fines ilustrativos\n",
    "    model=model.fit(X_train,y_train)\n",
    "    trainerr.append(np.mean(1-model.score(X_train,y_train)))\n",
    "    \n",
    "\n",
    "    "
   ]
  },
  {
   "cell_type": "code",
   "execution_count": null,
   "metadata": {},
   "outputs": [],
   "source": []
  },
  {
   "cell_type": "code",
   "execution_count": 70,
   "metadata": {},
   "outputs": [
    {
     "data": {
      "text/plain": [
       "[<matplotlib.lines.Line2D at 0x1131e8610>]"
      ]
     },
     "execution_count": 70,
     "metadata": {},
     "output_type": "execute_result"
    },
    {
     "data": {
      "image/png": "[encoded data removed]",
      "text/plain": [
       "<Figure size 432x288 with 1 Axes>"
      ]
     },
     "metadata": {
      "needs_background": "light"
     },
     "output_type": "display_data"
    }
   ],
   "source": [
    "plt.plot(params,trainerr,c='r')\n",
    "plt.plot(params,cverror,c='g')"
   ]
  },
  {
   "cell_type": "code",
   "execution_count": 73,
   "metadata": {},
   "outputs": [
    {
     "data": {
      "text/plain": [
       "(0.018060606060606065, 100)"
      ]
     },
     "execution_count": 73,
     "metadata": {},
     "output_type": "execute_result"
    }
   ],
   "source": [
    "min(zip(cverror,params),key=lambda x: x[0])"
   ]
  },
  {
   "cell_type": "code",
   "execution_count": 77,
   "metadata": {},
   "outputs": [],
   "source": [
    "scalerX = StandardScaler()\n",
    "red=MLPClassifier( hidden_layer_sizes=(100,50))\n",
    "model=Pipeline([('scaler', scalerX), ('RN', red)])\n",
    "model=model.fit(X_train,y_train)"
   ]
  },
  {
   "cell_type": "code",
   "execution_count": 81,
   "metadata": {},
   "outputs": [
    {
     "data": {
      "text/plain": [
       "0.038000000000000034"
      ]
     },
     "execution_count": 81,
     "metadata": {},
     "output_type": "execute_result"
    }
   ],
   "source": [
    "1-model.score(X_test,y_test)"
   ]
  },
  {
   "cell_type": "code",
   "execution_count": null,
   "metadata": {},
   "outputs": [],
   "source": []
  }
 ],
 "metadata": {
  "kernelspec": {
   "display_name": "Python 2",
   "language": "python",
   "name": "python2"
  },
  "language_info": {
   "codemirror_mode": {
    "name": "ipython",
    "version": 2
   },
   "file_extension": ".py",
   "mimetype": "text/x-python",
   "name": "python",
   "nbconvert_exporter": "python",
   "pygments_lexer": "ipython2",
   "version": "2.7.10"
  }
 },
 "nbformat": 4,
 "nbformat_minor": 2
}
